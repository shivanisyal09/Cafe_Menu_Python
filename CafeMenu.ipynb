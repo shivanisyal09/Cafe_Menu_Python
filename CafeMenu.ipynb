{
  "nbformat": 4,
  "nbformat_minor": 0,
  "metadata": {
    "colab": {
      "provenance": [],
      "authorship_tag": "ABX9TyN/RNcFSLK7/aJmFIhssuPP",
      "include_colab_link": true
    },
    "kernelspec": {
      "name": "python3",
      "display_name": "Python 3"
    },
    "language_info": {
      "name": "python"
    }
  },
  "cells": [
    {
      "cell_type": "markdown",
      "metadata": {
        "id": "view-in-github",
        "colab_type": "text"
      },
      "source": [
        "<a href=\"https://colab.research.google.com/github/shivanisyal09/Cafe_Menu_Python/blob/main/CafeMenu.ipynb\" target=\"_parent\"><img src=\"https://colab.research.google.com/assets/colab-badge.svg\" alt=\"Open In Colab\"/></a>"
      ]
    },
    {
      "cell_type": "code",
      "execution_count": 3,
      "metadata": {
        "id": "rC-D3DHWRlJB"
      },
      "outputs": [],
      "source": [
        "# Define the menu of Cafe\n",
        "menu = {\n",
        "    'Pizza': 460,\n",
        "    'Pasta': 350,\n",
        "    'Burger': 230,\n",
        "    'Ramen': 400,\n",
        "    'Dumpling': 320,\n",
        "    'Sushi': 480,\n",
        "    'Coffee': 240,\n",
        "    'Mojito': 180\n",
        "}"
      ]
    },
    {
      "cell_type": "code",
      "source": [
        "# Greet\n",
        "print('Welcome to our Cafe')\n",
        "print('Pizza: Rs460\\nPasta: Rs350\\nBurger: Rs230\\nRamen: Rs400\\nDumpling: Rs320\\nSushi: Rs480\\nCoffee: Rs240\\nMojito: Rs180')"
      ],
      "metadata": {
        "colab": {
          "base_uri": "https://localhost:8080/"
        },
        "id": "UgN447BaTLS8",
        "outputId": "16d4dcca-930b-4b28-b967-5f20748ccc19"
      },
      "execution_count": 9,
      "outputs": [
        {
          "output_type": "stream",
          "name": "stdout",
          "text": [
            "Welcome to our Cafe\n",
            "Pizza: Rs460\n",
            "Pasta: Rs350\n",
            "Burger: Rs230\n",
            "Ramen: Rs400\n",
            "Dumpling: Rs320\n",
            "Sushi: Rs480\n",
            "Coffee: Rs240\n",
            "Mojito: Rs180\n"
          ]
        }
      ]
    },
    {
      "cell_type": "code",
      "source": [
        "order_total = 0\n"
      ],
      "metadata": {
        "id": "T1fuHHh8Tg3w"
      },
      "execution_count": 11,
      "outputs": []
    },
    {
      "cell_type": "code",
      "source": [
        "item_1 = input('Enter the name of item you want to order: ')\n",
        "if item_1 in menu:\n",
        "  order_total += menu[item_1]\n",
        "  print(f'Your item {item_1} has been added to your order')\n",
        "else:\n",
        "  print(f'Ordered item {item_1} is not available yet!')\n",
        "\n",
        "another_order = input(\"Do you want to order anything else? (yes/no): \")\n",
        "if another_order == \"yes\":\n",
        "  item_2 = input(\"Enter the name of the second item you want to order: \")\n",
        "  if item_2 in menu:\n",
        "    order_total += menu[item_2]\n",
        "    print(f\"Your item {item_2} has been added to your order\")\n",
        "  else:\n",
        "    print(f\"Ordered item {item_2} is not available!\")\n",
        "\n",
        "\n",
        "print(f\"The total amount of items to pay is {order_total}\")"
      ],
      "metadata": {
        "colab": {
          "base_uri": "https://localhost:8080/"
        },
        "id": "DU0FL2CdTkMU",
        "outputId": "0dbe404b-a9ac-431a-e0da-401bdabe3f98"
      },
      "execution_count": 20,
      "outputs": [
        {
          "output_type": "stream",
          "name": "stdout",
          "text": [
            "Enter the name of item you want to order: Coffee\n",
            "Your item Coffee has been added to your order\n",
            "Do you want to order anything else? (yes/no): no\n",
            "The total amount of items to pay is 1290\n"
          ]
        }
      ]
    }
  ]
}